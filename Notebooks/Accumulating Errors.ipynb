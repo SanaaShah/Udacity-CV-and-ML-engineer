{
 "cells": [
  {
   "cell_type": "markdown",
   "metadata": {},
   "source": [
    "# Accumulating Errors\n",
    "Accelerometers are often **biased**. That means that even when acceleration is zero, they measure some non-zero value. Bias can be reduced through careful calibration (and buying better sensors) but it's hard to remove entirely.\n",
    "\n",
    "In this notebook you'll briefly explore how bias tends to accumulate."
   ]
  },
  {
   "cell_type": "markdown",
   "metadata": {},
   "source": [
    "----"
   ]
  },
  {
   "cell_type": "markdown",
   "metadata": {},
   "source": [
    "## Part 1 - What is Bias?\n",
    "A sensor is biased when it consistently reports a number that is too high or too low. Remember the elevator acceleration data?\n",
    "\n",
    "The code below is similar to what you used to plot that data."
   ]
  },
  {
   "cell_type": "code",
   "execution_count": null,
   "metadata": {},
   "outputs": [],
   "source": [
    "from matplotlib import pyplot as plt\n",
    "import numpy as np\n",
    "%matplotlib inline\n",
    "\n",
    "# get elevator data\n",
    "data = np.genfromtxt(\"elevator-lac.csv\", delimiter=\",\")[100:570]\n",
    "\n",
    "# unpack that data\n",
    "t, a_x, a_y, a_z = data.T\n",
    "plt.ylabel(\"Vertical Acceleration (m/s/s)\")\n",
    "plt.xlabel(\"Time (seconds)\")\n",
    "region_delimiters = [5.4, 8.9, 15.6, 18.6]\n",
    "for x_val in region_delimiters:\n",
    "    plt.axvline(x=x_val, color=\"black\",linestyle='dotted')\n",
    "\n",
    "plt.axhline(y=0, color='black',linestyle='dotted')\n",
    "plt.plot(t, a_z) \n",
    "plt.show()"
   ]
  },
  {
   "cell_type": "markdown",
   "metadata": {},
   "source": [
    "Note how the flat parts of the graph (0 acceleration) do NOT line up with the dotted $a=0$ line. But they should!\n",
    "\n",
    "This offset is due to **bias** in the accelerometer.\n",
    "\n",
    "If we know there's a bias we can correct it manually.\n",
    "\n",
    "**TODO - Correct the bias**\n",
    "> Change the second to last line of code in the code cell above to the following\n",
    "> ```python\n",
    "> plt.plot(t, a_z+0.12) \n",
    "> ```\n",
    "> and then re-run the cell."
   ]
  },
  {
   "cell_type": "markdown",
   "metadata": {},
   "source": [
    "## Part 2 - Visualize the Effect of Bias on `discrete` data"
   ]
  },
  {
   "cell_type": "markdown",
   "metadata": {},
   "source": [
    "### Rewriting `get_integral_from_data` with bias\n",
    "\n",
    "In the code cell below you will see how I've rewritten this function to include an **optional** third parameter called `bias`. The default value for this parameter is zero.\n",
    "\n",
    "When this parameter is non-zero, it simulates (or corrects) an offset in the data."
   ]
  },
  {
   "cell_type": "code",
   "execution_count": null,
   "metadata": {},
   "outputs": [],
   "source": [
    "def get_integral_from_data(acceleration_data, times, bias=0.0):\n",
    "    \"\"\"\n",
    "    Numerically integrates data AND artificially introduces \n",
    "    bias to that data.\n",
    "    \n",
    "    Note that the bias parameter can also be used to offset\n",
    "    a biased sensor.\n",
    "    \"\"\"\n",
    "    accumulated_speed = 0.0\n",
    "    last_time = times[0]\n",
    "    speeds = []\n",
    "    for i in range(1, len(times)):\n",
    "        \n",
    "        # THIS is where the bias is introduced. No matter what the \n",
    "        # real acceleration is, this biased accelerometer adds \n",
    "        # some bias to the reported value.\n",
    "        acceleration = acceleration_data[i] + bias\n",
    "        \n",
    "        time = times[i]\n",
    "        delta_t = time - last_time\n",
    "        delta_v = acceleration * delta_t\n",
    "        accumulated_speed += delta_v\n",
    "        speeds.append(accumulated_speed)\n",
    "        last_time = time\n",
    "    return speeds"
   ]
  },
  {
   "cell_type": "markdown",
   "metadata": {},
   "source": [
    "**TODO - plot velocity and acceleration with and without bias**"
   ]
  },
  {
   "cell_type": "code",
   "execution_count": null,
   "metadata": {},
   "outputs": [],
   "source": [
    "# TODO \n",
    "#   0. read through the code below to get a sense for what it does.\n",
    "#   1. run this cell with OFFSET = 0.0\n",
    "#   2. look at the graph. Note how drastic the error is with the\n",
    "#      integrated speed! \n",
    "#   3. change OFFSET to OFFSET = 0.12 and re-run the cell\n",
    "\n",
    "OFFSET = 0.0\n",
    "\n",
    "plt.title(\"The Effect of Bias on Integrated Data\")\n",
    "plt.xlabel(\"Time (seconds)\")\n",
    "plt.ylabel(\"Acceleration (m/s/s) AND Speed (m/s)\")\n",
    "\n",
    "# get the elevator speeds by integrating the acceleration data\n",
    "elevator_speeds = get_integral_from_data(a_z, t, OFFSET)\n",
    "\n",
    "# plot acceleration data\n",
    "plt.plot(t, a_z+OFFSET) \n",
    "\n",
    "# plot INFERRED (from integration) speed data\n",
    "plt.plot(t[1:], elevator_speeds)\n",
    "\n",
    "# add a legend to the plot\n",
    "plt.legend([\"Acceleration\", \"Speed\"])\n",
    "\n",
    "# vertical lines\n",
    "region_delimiters = [5.4, 8.9, 15.6, 18.6]\n",
    "for x_val in region_delimiters:\n",
    "    plt.axvline(x=x_val, color=\"black\",linestyle='dotted')\n",
    "\n",
    "# a=0 reference line\n",
    "plt.axhline(y=0, color='black',linestyle='dotted')\n",
    "\n",
    "plt.show()"
   ]
  },
  {
   "cell_type": "markdown",
   "metadata": {},
   "source": [
    "When `OFFSET = 0.0`, the speed graph looks absurd! It says that the speed of the elevator at the end of the journey is $-1.8$ m/s (clearly it should be 0.0). \n",
    "\n",
    "And note that the effect of bias gets worse (for the speed graph) as time goes on! \n",
    "\n",
    "When `OFFSET = 0.12` this graph looks much more reasonable (though still not perfect).\n",
    "\n",
    "> We should be more suspicious of integrated data when the integrations happen over a long period of time. "
   ]
  },
  {
   "cell_type": "markdown",
   "metadata": {},
   "source": [
    "## Part 3 - The Effect of Repeated Integration\n",
    "\n",
    "You saw that bias has a bigger impact on integrated data when we give that data time to accumulate. What happens when we integrate **twice**?"
   ]
  },
  {
   "cell_type": "code",
   "execution_count": null,
   "metadata": {},
   "outputs": [],
   "source": [
    "# This is just a helper function for integrating twice.\n",
    "def double_integral(data, times, bias=0.0):\n",
    "    print(bias)\n",
    "    speeds = get_integral_from_data(data, times, bias)\n",
    "    displacements = get_integral_from_data(speeds, times[1:])\n",
    "    return displacements"
   ]
  },
  {
   "cell_type": "markdown",
   "metadata": {},
   "source": [
    "**TODO - Observe effect of bias on double integration**\n",
    "\n",
    "> 1. Run the cell below (OFFSET = 0.12). This shows the elevator ascending to a height of about 8 meters.\n",
    "> 2. Change OFFSET to 0.0 and rerun. Look at how bad this inferred position is! It looks like we actually went DOWN."
   ]
  },
  {
   "cell_type": "code",
   "execution_count": null,
   "metadata": {},
   "outputs": [],
   "source": [
    "OFFSET = 0.12\n",
    "\n",
    "plt.title(\"Elevator Height vs Time\")\n",
    "plt.xlabel(\"Time (seconds)\")\n",
    "plt.ylabel(\"Elevator Height (meters)\")\n",
    "\n",
    "displacements = double_integral(a_z, t, OFFSET)\n",
    "plt.plot(t[2:], displacements)\n",
    "\n",
    "# vertical lines\n",
    "region_delimiters = [5.4, 8.9, 15.6, 18.6]\n",
    "for x_val in region_delimiters:\n",
    "    plt.axvline(x=x_val, color=\"black\",linestyle='dotted')\n",
    "\n",
    "plt.show()"
   ]
  },
  {
   "cell_type": "markdown",
   "metadata": {},
   "source": [
    "## Part 4 - Parallel Parking\n",
    "\n",
    "Same walkthrough, different data. Note that this time the accelerometer is \"perfect\" (because the data here is faked) and we will be using the `bias` parameter to *introduce* bias (instead of *correcting* it)."
   ]
  },
  {
   "cell_type": "code",
   "execution_count": null,
   "metadata": {},
   "outputs": [],
   "source": [
    "from helpers import process_data\n",
    "\n",
    "PARALLEL_PARK_DATA = process_data(\"parallel_park.pickle\")\n",
    "\n",
    "TIMESTAMPS    = [row[0] for row in PARALLEL_PARK_DATA]\n",
    "DISPLACEMENTS = [row[1] for row in PARALLEL_PARK_DATA]\n",
    "YAW_RATES     = [row[2] for row in PARALLEL_PARK_DATA]\n",
    "ACCELERATIONS = [row[3] for row in PARALLEL_PARK_DATA]"
   ]
  },
  {
   "cell_type": "markdown",
   "metadata": {},
   "source": [
    "#### Observing the Effects of bias\n",
    "Run the code cell below. You'll see that when bias is really small (like 0.01), the reported acceleration (blue dots) agrees very well with the actual acceleration (orange dots).\n",
    "\n",
    "When bias is increased, things get bad fast!"
   ]
  },
  {
   "cell_type": "code",
   "execution_count": null,
   "metadata": {},
   "outputs": [],
   "source": [
    "# Try running this cell with BIAS set to 0.01, 0.05, 0.1, 0.2, 0.4\n",
    "# and so on. Even though these are all small numbers the effect of \n",
    "# bias tends to accumulate as the sensor runs for longer and longer.\n",
    "\n",
    "BIAS = 0.01\n",
    "\n",
    "integrated_displacements = double_integral(ACCELERATIONS, TIMESTAMPS, BIAS)\n",
    "\n",
    "plt.title(\"Calculated position (blue) vs Actual position (orange)\")\n",
    "plt.xlabel(\"Time (seconds)\")\n",
    "plt.ylabel(\"Position (meters)\")\n",
    "plt.scatter(TIMESTAMPS[2:], integrated_displacements, alpha=0.5)\n",
    "plt.scatter(TIMESTAMPS, DISPLACEMENTS, alpha=0.5)\n",
    "plt.legend([\"Calculated (from integral)\", \"Actual position\"])\n",
    "plt.show()"
   ]
  }
 ],
 "metadata": {
  "kernelspec": {
   "display_name": "Python 3",
   "language": "python",
   "name": "python3"
  },
  "language_info": {
   "codemirror_mode": {
    "name": "ipython",
    "version": 3
   },
   "file_extension": ".py",
   "mimetype": "text/x-python",
   "name": "python",
   "nbconvert_exporter": "python",
   "pygments_lexer": "ipython3",
   "version": "3.6.3"
  }
 },
 "nbformat": 4,
 "nbformat_minor": 2
}
