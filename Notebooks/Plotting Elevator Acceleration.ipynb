{
 "cells": [
  {
   "cell_type": "markdown",
   "metadata": {},
   "source": [
    "# Plotting Elevator Acceleration\n",
    "\n",
    "I found an app for my iPhone called [Sensor Kinetics](https://itunes.apple.com/us/app/sensor-kinetics-pro/id623633248?mt=8) that gives you direct access to the phone's IMU data, including data from the accelerometers, rate gyros, and magnetometer.\n",
    "\n",
    "I put the phone on the floor of the Udacity elevator and pressed \"Begin collecting data\". \n",
    "\n",
    "Then I pressed the elevator button for the third floor and let the app collect data as the elevator moved up to the third floor.\n",
    "\n",
    "I want to show you a plot of that data."
   ]
  },
  {
   "cell_type": "code",
   "execution_count": null,
   "metadata": {},
   "outputs": [],
   "source": [
    "# imports and getting the data from the CSV\n",
    "\n",
    "from matplotlib import pyplot as plt\n",
    "import numpy as np\n",
    "data = np.genfromtxt(\"elevator-lac.csv\", delimiter=\",\")[100:570]"
   ]
  },
  {
   "cell_type": "code",
   "execution_count": null,
   "metadata": {},
   "outputs": [],
   "source": [
    "# unpack that data\n",
    "\n",
    "t, a_x, a_y, a_z = data.T"
   ]
  },
  {
   "cell_type": "code",
   "execution_count": null,
   "metadata": {},
   "outputs": [],
   "source": [
    "# make the graph\n",
    "plt.ylabel(\"Vertical Acceleration (m/s/s)\")\n",
    "plt.xlabel(\"Time (seconds)\")\n",
    "plt.plot(t,a_z+0.12) # the \"+0.12\" is to account for bias in the data\n",
    "plt.show()"
   ]
  },
  {
   "cell_type": "markdown",
   "metadata": {},
   "source": [
    "This is real acceleration data from my phone's accelerometer, and this data tells a story. Before you move on, I just want you to think about a few questions:\n",
    "\n",
    "### Reflection Questions\n",
    "\n",
    "1. What's going on in that first hump between t=6 and t=9? What part of the elevator's motion does it correspond to?\n",
    "\n",
    "2. What's going on in the mostly-flat section between t=9 and t=16? \n",
    "\n",
    "3. Finally, why is that last bump between t=16 and 18 there? What part of the motion does that correspond to?"
   ]
  },
  {
   "cell_type": "markdown",
   "metadata": {},
   "source": [
    "### By the end of this lesson...\n",
    "You'll be able to:\n",
    "\n",
    "1. Use data like this to figure out how **fast** the elevator was moving at any time.\n",
    "\n",
    "2. Use data like this to figure out how **far** this elevator moved in this trip."
   ]
  }
 ],
 "metadata": {
  "kernelspec": {
   "display_name": "Python 3",
   "language": "python",
   "name": "python3"
  },
  "language_info": {
   "codemirror_mode": {
    "name": "ipython",
    "version": 3
   },
   "file_extension": ".py",
   "mimetype": "text/x-python",
   "name": "python",
   "nbconvert_exporter": "python",
   "pygments_lexer": "ipython3",
   "version": "3.6.3"
  }
 },
 "nbformat": 4,
 "nbformat_minor": 2
}
