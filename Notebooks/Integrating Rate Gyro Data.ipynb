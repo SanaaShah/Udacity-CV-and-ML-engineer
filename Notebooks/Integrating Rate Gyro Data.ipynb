{
 "cells": [
  {
   "cell_type": "markdown",
   "metadata": {},
   "source": [
    "# Integrating Rate Gyro Data\n",
    "The **yaw rate** of a vehicle can be measured by a **rate gyro**. \n",
    "\n",
    "The yaw rate gives the rate of change of the vehicle's heading in radians per second and since a vehicle's heading is usually given by the greek letter $\\theta$ (theta), yaw **rate** is given by $\\dot{\\theta}$ (theta dot).\n",
    "\n",
    "Integrating the yaw rate gives total change in heading. "
   ]
  },
  {
   "cell_type": "code",
   "execution_count": null,
   "metadata": {},
   "outputs": [],
   "source": [
    "from helpers import process_data, get_derivative_from_data\n",
    "from matplotlib import pyplot as plt\n",
    "\n",
    "PARALLEL_PARK_DATA = process_data(\"parallel_park.pickle\")\n",
    "\n",
    "TIMESTAMPS    = [row[0] for row in PARALLEL_PARK_DATA]\n",
    "DISPLACEMENTS = [row[1] for row in PARALLEL_PARK_DATA]\n",
    "YAW_RATES     = [row[2] for row in PARALLEL_PARK_DATA]\n",
    "ACCELERATIONS = [row[3] for row in PARALLEL_PARK_DATA]"
   ]
  },
  {
   "cell_type": "code",
   "execution_count": null,
   "metadata": {},
   "outputs": [],
   "source": [
    "plt.title(\"Yaw Rate vs Time\")\n",
    "plt.xlabel(\"Time (seconds)\")\n",
    "plt.ylabel(\"Yaw Rate (radians / second)\")\n",
    "plt.plot(TIMESTAMPS, YAW_RATES)\n",
    "plt.show()"
   ]
  },
  {
   "cell_type": "markdown",
   "metadata": {},
   "source": [
    "Here's what I make of this data\n",
    "\n",
    "**From t=0 to t=1**: The yaw rate is zero so the wheels are straight (or the car isn't moving). This is when the car is backing up straight.\n",
    "\n",
    "**From t=1 to t=2**: This is where the driver cuts the steering wheel hard to the right and keeps backing up. Since the yaw rate is non-zero, this means the vehicle is turning.\n",
    "\n",
    "**From t=2 to t=3**: This is where the driver cuts the wheel back to the left to straighten out. \n",
    "\n",
    "**After t=3**: Here the vehicle isn't turning so it's probably just adjusting its position within the spot by driving forward and/or backward slowly."
   ]
  },
  {
   "cell_type": "markdown",
   "metadata": {},
   "source": [
    "### Your job\n",
    "In this notebook you will write the `get_integral_from_data` function yourself and then use that function to keep track of a vehicle's heading as it drives. \n",
    "\n",
    "First, take a look at what the integrated rate gyro data should look like when you get your function working correctly"
   ]
  },
  {
   "cell_type": "code",
   "execution_count": null,
   "metadata": {},
   "outputs": [],
   "source": [
    "from helpers import get_integral_from_data as solution_integral\n",
    "\n",
    "thetas = solution_integral(YAW_RATES, TIMESTAMPS)\n",
    "\n",
    "plt.scatter(TIMESTAMPS[1:], thetas)\n",
    "plt.show()"
   ]
  },
  {
   "cell_type": "markdown",
   "metadata": {},
   "source": [
    "As you can see, the vehicle's heading is initially $\\theta = 0 \\text{ radians}$. From $t=1$ to $t=2$ the heading increases to a maximum of about $0.28 \\text{ radians}$ (which is about 16 degrees). "
   ]
  },
  {
   "cell_type": "code",
   "execution_count": null,
   "metadata": {},
   "outputs": [],
   "source": [
    "def get_integral_from_data(data, times):\n",
    "    # TODO - write integration code!\n",
    "    return"
   ]
  },
  {
   "cell_type": "code",
   "execution_count": null,
   "metadata": {},
   "outputs": [],
   "source": [
    "# Visual Testing - Compare the result of your \n",
    "# integration code to the plot above\n",
    "\n",
    "thetas = get_integral_from_data(YAW_RATES, TIMESTAMPS)\n",
    "\n",
    "plt.scatter(TIMESTAMPS[1:], thetas)\n",
    "plt.show()"
   ]
  }
 ],
 "metadata": {
  "kernelspec": {
   "display_name": "Python 3",
   "language": "python",
   "name": "python3"
  },
  "language_info": {
   "codemirror_mode": {
    "name": "ipython",
    "version": 3
   },
   "file_extension": ".py",
   "mimetype": "text/x-python",
   "name": "python",
   "nbconvert_exporter": "python",
   "pygments_lexer": "ipython3",
   "version": "3.6.3"
  }
 },
 "nbformat": 4,
 "nbformat_minor": 2
}
